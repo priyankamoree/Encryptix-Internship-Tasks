{
 "cells": [
  {
   "cell_type": "markdown",
   "id": "a2f1e746-0982-49ad-b35f-b8e747985183",
   "metadata": {},
   "source": [
    "# **Problem Statement:**\n",
    "Create a machine learning model that can **predict the genre of a movie based on its plot summary or other textual information**. You can use techniques like TF-IDF or word embeddings with classifiers such as Naive Bayes, Logistic Regression, or Support Vector Machines."
   ]
  },
  {
   "cell_type": "markdown",
   "id": "560b03f6-efc7-4864-9b73-c0e3a6520b85",
   "metadata": {},
   "source": [
    "# Importing Libraries"
   ]
  },
  {
   "cell_type": "code",
   "execution_count": 1,
   "id": "31c7d5af-6dc2-43d1-b1b2-985d01362a36",
   "metadata": {},
   "outputs": [],
   "source": [
    "import pandas as pd\n",
    "import matplotlib.pyplot as plt\n",
    "import seaborn as sns\n",
    "import numpy as np\n",
    "import re\n",
    "import nltk\n",
    "import string\n",
    "from nltk.corpus import stopwords\n",
    "from nltk.stem import LancasterStemmer\n",
    "from sklearn.feature_extraction.text import TfidfVectorizer\n",
    "from sklearn.preprocessing import LabelEncoder\n",
    "from sklearn.model_selection import train_test_split\n",
    "from sklearn.linear_model import LogisticRegression\n",
    "from sklearn.ensemble import RandomForestClassifier\n",
    "from sklearn.metrics import accuracy_score, classification_report,confusion_matrix\n",
    "import warnings\n",
    "warnings.filterwarnings('ignore')"
   ]
  },
  {
   "cell_type": "code",
   "execution_count": 2,
   "id": "d20afcf8-0b71-48c4-8b98-c845b9ae6442",
   "metadata": {},
   "outputs": [],
   "source": [
    "# Load the training data\n",
    "train_df = r'C:\\Users\\priya\\Downloads\\Genre Classification\\Genre Classification Dataset\\train_data.txt'\n",
    "train_df = pd.read_csv(train_df, sep=':::', names=['ID','Title', 'Genre', 'Description'], engine='python')"
   ]
  },
  {
   "cell_type": "code",
   "execution_count": 3,
   "id": "442a8ec4-01cb-4c27-bee0-a4d538a20847",
   "metadata": {},
   "outputs": [
    {
     "data": {
      "text/html": [
       "<div>\n",
       "<style scoped>\n",
       "    .dataframe tbody tr th:only-of-type {\n",
       "        vertical-align: middle;\n",
       "    }\n",
       "\n",
       "    .dataframe tbody tr th {\n",
       "        vertical-align: top;\n",
       "    }\n",
       "\n",
       "    .dataframe thead th {\n",
       "        text-align: right;\n",
       "    }\n",
       "</style>\n",
       "<table border=\"1\" class=\"dataframe\">\n",
       "  <thead>\n",
       "    <tr style=\"text-align: right;\">\n",
       "      <th></th>\n",
       "      <th>ID</th>\n",
       "      <th>Title</th>\n",
       "      <th>Genre</th>\n",
       "      <th>Description</th>\n",
       "    </tr>\n",
       "  </thead>\n",
       "  <tbody>\n",
       "    <tr>\n",
       "      <th>0</th>\n",
       "      <td>1</td>\n",
       "      <td>Oscar et la dame rose (2009)</td>\n",
       "      <td>drama</td>\n",
       "      <td>Listening in to a conversation between his do...</td>\n",
       "    </tr>\n",
       "    <tr>\n",
       "      <th>1</th>\n",
       "      <td>2</td>\n",
       "      <td>Cupid (1997)</td>\n",
       "      <td>thriller</td>\n",
       "      <td>A brother and sister with a past incestuous r...</td>\n",
       "    </tr>\n",
       "    <tr>\n",
       "      <th>2</th>\n",
       "      <td>3</td>\n",
       "      <td>Young, Wild and Wonderful (1980)</td>\n",
       "      <td>adult</td>\n",
       "      <td>As the bus empties the students for their fie...</td>\n",
       "    </tr>\n",
       "    <tr>\n",
       "      <th>3</th>\n",
       "      <td>4</td>\n",
       "      <td>The Secret Sin (1915)</td>\n",
       "      <td>drama</td>\n",
       "      <td>To help their unemployed father make ends mee...</td>\n",
       "    </tr>\n",
       "    <tr>\n",
       "      <th>4</th>\n",
       "      <td>5</td>\n",
       "      <td>The Unrecovered (2007)</td>\n",
       "      <td>drama</td>\n",
       "      <td>The film's title refers not only to the un-re...</td>\n",
       "    </tr>\n",
       "    <tr>\n",
       "      <th>...</th>\n",
       "      <td>...</td>\n",
       "      <td>...</td>\n",
       "      <td>...</td>\n",
       "      <td>...</td>\n",
       "    </tr>\n",
       "    <tr>\n",
       "      <th>54209</th>\n",
       "      <td>54210</td>\n",
       "      <td>\"Bonino\" (1953)</td>\n",
       "      <td>comedy</td>\n",
       "      <td>This short-lived NBC live sitcom centered on ...</td>\n",
       "    </tr>\n",
       "    <tr>\n",
       "      <th>54210</th>\n",
       "      <td>54211</td>\n",
       "      <td>Dead Girls Don't Cry (????)</td>\n",
       "      <td>horror</td>\n",
       "      <td>The NEXT Generation of EXPLOITATION. The sist...</td>\n",
       "    </tr>\n",
       "    <tr>\n",
       "      <th>54211</th>\n",
       "      <td>54212</td>\n",
       "      <td>Ronald Goedemondt: Ze bestaan echt (2008)</td>\n",
       "      <td>documentary</td>\n",
       "      <td>Ze bestaan echt, is a stand-up comedy about g...</td>\n",
       "    </tr>\n",
       "    <tr>\n",
       "      <th>54212</th>\n",
       "      <td>54213</td>\n",
       "      <td>Make Your Own Bed (1944)</td>\n",
       "      <td>comedy</td>\n",
       "      <td>Walter and Vivian live in the country and hav...</td>\n",
       "    </tr>\n",
       "    <tr>\n",
       "      <th>54213</th>\n",
       "      <td>54214</td>\n",
       "      <td>Nature's Fury: Storm of the Century (2006)</td>\n",
       "      <td>history</td>\n",
       "      <td>On Labor Day Weekend, 1935, the most intense ...</td>\n",
       "    </tr>\n",
       "  </tbody>\n",
       "</table>\n",
       "<p>54214 rows × 4 columns</p>\n",
       "</div>"
      ],
      "text/plain": [
       "          ID                                         Title          Genre  \\\n",
       "0          1                 Oscar et la dame rose (2009)          drama    \n",
       "1          2                                 Cupid (1997)       thriller    \n",
       "2          3             Young, Wild and Wonderful (1980)          adult    \n",
       "3          4                        The Secret Sin (1915)          drama    \n",
       "4          5                       The Unrecovered (2007)          drama    \n",
       "...      ...                                           ...            ...   \n",
       "54209  54210                              \"Bonino\" (1953)         comedy    \n",
       "54210  54211                  Dead Girls Don't Cry (????)         horror    \n",
       "54211  54212    Ronald Goedemondt: Ze bestaan echt (2008)    documentary    \n",
       "54212  54213                     Make Your Own Bed (1944)         comedy    \n",
       "54213  54214   Nature's Fury: Storm of the Century (2006)        history    \n",
       "\n",
       "                                             Description  \n",
       "0       Listening in to a conversation between his do...  \n",
       "1       A brother and sister with a past incestuous r...  \n",
       "2       As the bus empties the students for their fie...  \n",
       "3       To help their unemployed father make ends mee...  \n",
       "4       The film's title refers not only to the un-re...  \n",
       "...                                                  ...  \n",
       "54209   This short-lived NBC live sitcom centered on ...  \n",
       "54210   The NEXT Generation of EXPLOITATION. The sist...  \n",
       "54211   Ze bestaan echt, is a stand-up comedy about g...  \n",
       "54212   Walter and Vivian live in the country and hav...  \n",
       "54213   On Labor Day Weekend, 1935, the most intense ...  \n",
       "\n",
       "[54214 rows x 4 columns]"
      ]
     },
     "execution_count": 3,
     "metadata": {},
     "output_type": "execute_result"
    }
   ],
   "source": [
    "train_df"
   ]
  },
  {
   "cell_type": "code",
   "execution_count": 4,
   "id": "85b02361-d49d-470a-a791-ac1548cd71c6",
   "metadata": {},
   "outputs": [
    {
     "name": "stdout",
     "output_type": "stream",
     "text": [
      "                 ID\n",
      "count  54214.000000\n",
      "mean   27107.500000\n",
      "std    15650.378084\n",
      "min        1.000000\n",
      "25%    13554.250000\n",
      "50%    27107.500000\n",
      "75%    40660.750000\n",
      "max    54214.000000\n"
     ]
    }
   ],
   "source": [
    "print(train_df.describe())"
   ]
  },
  {
   "cell_type": "code",
   "execution_count": 5,
   "id": "ca463fbd-6430-4f3e-a0d7-198a872db6a1",
   "metadata": {},
   "outputs": [
    {
     "name": "stdout",
     "output_type": "stream",
     "text": [
      "<class 'pandas.core.frame.DataFrame'>\n",
      "RangeIndex: 54214 entries, 0 to 54213\n",
      "Data columns (total 4 columns):\n",
      " #   Column       Non-Null Count  Dtype \n",
      "---  ------       --------------  ----- \n",
      " 0   ID           54214 non-null  int64 \n",
      " 1   Title        54214 non-null  object\n",
      " 2   Genre        54214 non-null  object\n",
      " 3   Description  54214 non-null  object\n",
      "dtypes: int64(1), object(3)\n",
      "memory usage: 1.7+ MB\n",
      "None\n"
     ]
    }
   ],
   "source": [
    "print(train_df.info())"
   ]
  },
  {
   "cell_type": "code",
   "execution_count": 6,
   "id": "273f0f39-178d-4d5d-b73f-2ad2a65d22f3",
   "metadata": {},
   "outputs": [
    {
     "name": "stdout",
     "output_type": "stream",
     "text": [
      "ID             0\n",
      "Title          0\n",
      "Genre          0\n",
      "Description    0\n",
      "dtype: int64\n"
     ]
    }
   ],
   "source": [
    "print(train_df.isna().sum())"
   ]
  },
  {
   "cell_type": "code",
   "execution_count": 7,
   "id": "b24e22dd-879e-4384-8558-bc5c6cb120fd",
   "metadata": {},
   "outputs": [
    {
     "data": {
      "text/html": [
       "<div>\n",
       "<style scoped>\n",
       "    .dataframe tbody tr th:only-of-type {\n",
       "        vertical-align: middle;\n",
       "    }\n",
       "\n",
       "    .dataframe tbody tr th {\n",
       "        vertical-align: top;\n",
       "    }\n",
       "\n",
       "    .dataframe thead th {\n",
       "        text-align: right;\n",
       "    }\n",
       "</style>\n",
       "<table border=\"1\" class=\"dataframe\">\n",
       "  <thead>\n",
       "    <tr style=\"text-align: right;\">\n",
       "      <th></th>\n",
       "      <th>Title</th>\n",
       "      <th>Description</th>\n",
       "    </tr>\n",
       "    <tr>\n",
       "      <th>Id</th>\n",
       "      <th></th>\n",
       "      <th></th>\n",
       "    </tr>\n",
       "  </thead>\n",
       "  <tbody>\n",
       "    <tr>\n",
       "      <th>1</th>\n",
       "      <td>Edgar's Lunch (1998)</td>\n",
       "      <td>L.R. Brane loves his life - his car, his apar...</td>\n",
       "    </tr>\n",
       "    <tr>\n",
       "      <th>2</th>\n",
       "      <td>La guerra de papá (1977)</td>\n",
       "      <td>Spain, March 1964: Quico is a very naughty ch...</td>\n",
       "    </tr>\n",
       "    <tr>\n",
       "      <th>3</th>\n",
       "      <td>Off the Beaten Track (2010)</td>\n",
       "      <td>One year in the life of Albin and his family ...</td>\n",
       "    </tr>\n",
       "    <tr>\n",
       "      <th>4</th>\n",
       "      <td>Meu Amigo Hindu (2015)</td>\n",
       "      <td>His father has died, he hasn't spoken with hi...</td>\n",
       "    </tr>\n",
       "    <tr>\n",
       "      <th>5</th>\n",
       "      <td>Er nu zhai (1955)</td>\n",
       "      <td>Before he was known internationally as a mart...</td>\n",
       "    </tr>\n",
       "  </tbody>\n",
       "</table>\n",
       "</div>"
      ],
      "text/plain": [
       "                            Title  \\\n",
       "Id                                  \n",
       "1           Edgar's Lunch (1998)    \n",
       "2       La guerra de papá (1977)    \n",
       "3    Off the Beaten Track (2010)    \n",
       "4         Meu Amigo Hindu (2015)    \n",
       "5              Er nu zhai (1955)    \n",
       "\n",
       "                                          Description  \n",
       "Id                                                     \n",
       "1    L.R. Brane loves his life - his car, his apar...  \n",
       "2    Spain, March 1964: Quico is a very naughty ch...  \n",
       "3    One year in the life of Albin and his family ...  \n",
       "4    His father has died, he hasn't spoken with hi...  \n",
       "5    Before he was known internationally as a mart...  "
      ]
     },
     "execution_count": 7,
     "metadata": {},
     "output_type": "execute_result"
    }
   ],
   "source": [
    "# Load the test data\n",
    "test_df = r'C:\\Users\\priya\\Downloads\\Genre Classification\\Genre Classification Dataset\\test_data.txt'\n",
    "test_df = pd.read_csv(test_df, sep=':::', names=['Id', 'Title', 'Description'], engine='python',index_col=0)\n",
    "test_df.head()"
   ]
  },
  {
   "cell_type": "markdown",
   "id": "461ad0ae-1ea0-45fa-9554-74c6dd2879cb",
   "metadata": {},
   "source": [
    "# Exploratory Data Analysis and Data Visualization"
   ]
  },
  {
   "cell_type": "code",
   "execution_count": 8,
   "id": "33a28d39-a15c-430a-9230-c6e1f40f2d5d",
   "metadata": {},
   "outputs": [
    {
     "data": {
      "image/png": "[encoded data removed]",
      "text/plain": [
       "<Figure size 1400x700 with 1 Axes>"
      ]
     },
     "metadata": {},
     "output_type": "display_data"
    }
   ],
   "source": [
    "# Plot the distribution of genres using a bar plot\n",
    "plt.figure(figsize=(14, 7))\n",
    "counts = train_df['Genre'].value_counts()\n",
    "sns.barplot(x=counts.index, y=counts, palette='viridis')\n",
    "plt.xlabel('Genre', fontsize=14, fontweight='bold')\n",
    "plt.ylabel('Count', fontsize=14, fontweight='bold')\n",
    "plt.title('Distribution of Genres', fontsize=16, fontweight='bold')\n",
    "plt.xticks(rotation=90, fontsize=14, fontweight='bold')\n",
    "plt.show()"
   ]
  },
  {
   "cell_type": "markdown",
   "id": "4a7da5c0-6610-4898-8eec-3319202b8e7a",
   "metadata": {},
   "source": [
    "# Data Preprocessing and Text Cleaning"
   ]
  },
  {
   "cell_type": "code",
   "execution_count": 10,
   "id": "8f53d51d-8616-49ca-bf88-402e045e1531",
   "metadata": {},
   "outputs": [],
   "source": [
    "# Initialize the stemmer and stop words\n",
    "stemmer = LancasterStemmer()\n",
    "stop_words = set(stopwords.words('english'))\n",
    "\n",
    "# Define the clean_text function\n",
    "def clean_text(text):\n",
    "    text = text.lower()  # Lowercase all characters\n",
    "    text = re.sub(r'@\\S+', '', text)  # Remove Twitter handles\n",
    "    text = re.sub(r'http\\S+', '', text)  # Remove URLs\n",
    "    text = re.sub(r'pic.\\S+', '', text)\n",
    "    text = re.sub(r\"[^a-zA-Z+']\", ' ', text)  # Keep only characters\n",
    "    text = re.sub(r'\\s+[a-zA-Z]\\s+', ' ', text + ' ')  # Keep words with length > 1 only\n",
    "    text = \"\".join([i for i in text if i not in string.punctuation])\n",
    "    words = nltk.word_tokenize(text)\n",
    "    stopwords = nltk.corpus.stopwords.words('english')  # Remove stopwords\n",
    "    text = \" \".join([i for i in words if i not in stopwords and len(i) > 2])\n",
    "    text = re.sub(\"\\s[\\s]+\", \" \", text).strip()  # Remove repeated/leading/trailing spaces\n",
    "    return text\n",
    "\n",
    "# Apply the clean_text function to the 'Description' column in the training and test data\n",
    "train_df['Text_cleaning'] = train_df['Description'].apply(clean_text)\n",
    "test_df['Text_cleaning'] = test_df['Description'].apply(clean_text)"
   ]
  },
  {
   "cell_type": "code",
   "execution_count": 11,
   "id": "1bb32c23-3f9e-470d-91f7-a340b4c9d712",
   "metadata": {},
   "outputs": [
    {
     "data": {
      "text/html": [
       "<div>\n",
       "<style scoped>\n",
       "    .dataframe tbody tr th:only-of-type {\n",
       "        vertical-align: middle;\n",
       "    }\n",
       "\n",
       "    .dataframe tbody tr th {\n",
       "        vertical-align: top;\n",
       "    }\n",
       "\n",
       "    .dataframe thead th {\n",
       "        text-align: right;\n",
       "    }\n",
       "</style>\n",
       "<table border=\"1\" class=\"dataframe\">\n",
       "  <thead>\n",
       "    <tr style=\"text-align: right;\">\n",
       "      <th></th>\n",
       "      <th>ID</th>\n",
       "      <th>Title</th>\n",
       "      <th>Genre</th>\n",
       "      <th>Description</th>\n",
       "      <th>Text_cleaning</th>\n",
       "    </tr>\n",
       "  </thead>\n",
       "  <tbody>\n",
       "    <tr>\n",
       "      <th>0</th>\n",
       "      <td>1</td>\n",
       "      <td>Oscar et la dame rose (2009)</td>\n",
       "      <td>drama</td>\n",
       "      <td>Listening in to a conversation between his do...</td>\n",
       "      <td>listening conversation doctor parents year old...</td>\n",
       "    </tr>\n",
       "    <tr>\n",
       "      <th>1</th>\n",
       "      <td>2</td>\n",
       "      <td>Cupid (1997)</td>\n",
       "      <td>thriller</td>\n",
       "      <td>A brother and sister with a past incestuous r...</td>\n",
       "      <td>brother sister past incestuous relationship cu...</td>\n",
       "    </tr>\n",
       "    <tr>\n",
       "      <th>2</th>\n",
       "      <td>3</td>\n",
       "      <td>Young, Wild and Wonderful (1980)</td>\n",
       "      <td>adult</td>\n",
       "      <td>As the bus empties the students for their fie...</td>\n",
       "      <td>bus empties students field trip museum natural...</td>\n",
       "    </tr>\n",
       "    <tr>\n",
       "      <th>3</th>\n",
       "      <td>4</td>\n",
       "      <td>The Secret Sin (1915)</td>\n",
       "      <td>drama</td>\n",
       "      <td>To help their unemployed father make ends mee...</td>\n",
       "      <td>help unemployed father make ends meet edith tw...</td>\n",
       "    </tr>\n",
       "    <tr>\n",
       "      <th>4</th>\n",
       "      <td>5</td>\n",
       "      <td>The Unrecovered (2007)</td>\n",
       "      <td>drama</td>\n",
       "      <td>The film's title refers not only to the un-re...</td>\n",
       "      <td>films title refers recovered bodies ground zer...</td>\n",
       "    </tr>\n",
       "  </tbody>\n",
       "</table>\n",
       "</div>"
      ],
      "text/plain": [
       "   ID                               Title       Genre  \\\n",
       "0   1       Oscar et la dame rose (2009)       drama    \n",
       "1   2                       Cupid (1997)    thriller    \n",
       "2   3   Young, Wild and Wonderful (1980)       adult    \n",
       "3   4              The Secret Sin (1915)       drama    \n",
       "4   5             The Unrecovered (2007)       drama    \n",
       "\n",
       "                                         Description  \\\n",
       "0   Listening in to a conversation between his do...   \n",
       "1   A brother and sister with a past incestuous r...   \n",
       "2   As the bus empties the students for their fie...   \n",
       "3   To help their unemployed father make ends mee...   \n",
       "4   The film's title refers not only to the un-re...   \n",
       "\n",
       "                                       Text_cleaning  \n",
       "0  listening conversation doctor parents year old...  \n",
       "1  brother sister past incestuous relationship cu...  \n",
       "2  bus empties students field trip museum natural...  \n",
       "3  help unemployed father make ends meet edith tw...  \n",
       "4  films title refers recovered bodies ground zer...  "
      ]
     },
     "execution_count": 11,
     "metadata": {},
     "output_type": "execute_result"
    }
   ],
   "source": [
    "train_df.head()"
   ]
  },
  {
   "cell_type": "code",
   "execution_count": 12,
   "id": "dbc9bf1b-c1ee-4b1c-93a4-7d08c62275c3",
   "metadata": {},
   "outputs": [
    {
     "data": {
      "text/html": [
       "<div>\n",
       "<style scoped>\n",
       "    .dataframe tbody tr th:only-of-type {\n",
       "        vertical-align: middle;\n",
       "    }\n",
       "\n",
       "    .dataframe tbody tr th {\n",
       "        vertical-align: top;\n",
       "    }\n",
       "\n",
       "    .dataframe thead th {\n",
       "        text-align: right;\n",
       "    }\n",
       "</style>\n",
       "<table border=\"1\" class=\"dataframe\">\n",
       "  <thead>\n",
       "    <tr style=\"text-align: right;\">\n",
       "      <th></th>\n",
       "      <th>Title</th>\n",
       "      <th>Description</th>\n",
       "      <th>Text_cleaning</th>\n",
       "    </tr>\n",
       "    <tr>\n",
       "      <th>Id</th>\n",
       "      <th></th>\n",
       "      <th></th>\n",
       "      <th></th>\n",
       "    </tr>\n",
       "  </thead>\n",
       "  <tbody>\n",
       "    <tr>\n",
       "      <th>1</th>\n",
       "      <td>Edgar's Lunch (1998)</td>\n",
       "      <td>L.R. Brane loves his life - his car, his apar...</td>\n",
       "      <td>brane loves life car apartment job especially ...</td>\n",
       "    </tr>\n",
       "    <tr>\n",
       "      <th>2</th>\n",
       "      <td>La guerra de papá (1977)</td>\n",
       "      <td>Spain, March 1964: Quico is a very naughty ch...</td>\n",
       "      <td>spain march quico naughty child three belongin...</td>\n",
       "    </tr>\n",
       "    <tr>\n",
       "      <th>3</th>\n",
       "      <td>Off the Beaten Track (2010)</td>\n",
       "      <td>One year in the life of Albin and his family ...</td>\n",
       "      <td>one year life albin family shepherds north tra...</td>\n",
       "    </tr>\n",
       "    <tr>\n",
       "      <th>4</th>\n",
       "      <td>Meu Amigo Hindu (2015)</td>\n",
       "      <td>His father has died, he hasn't spoken with hi...</td>\n",
       "      <td>father died hasnt spoken brother years serious...</td>\n",
       "    </tr>\n",
       "    <tr>\n",
       "      <th>5</th>\n",
       "      <td>Er nu zhai (1955)</td>\n",
       "      <td>Before he was known internationally as a mart...</td>\n",
       "      <td>known internationally martial arts superstar b...</td>\n",
       "    </tr>\n",
       "  </tbody>\n",
       "</table>\n",
       "</div>"
      ],
      "text/plain": [
       "                            Title  \\\n",
       "Id                                  \n",
       "1           Edgar's Lunch (1998)    \n",
       "2       La guerra de papá (1977)    \n",
       "3    Off the Beaten Track (2010)    \n",
       "4         Meu Amigo Hindu (2015)    \n",
       "5              Er nu zhai (1955)    \n",
       "\n",
       "                                          Description  \\\n",
       "Id                                                      \n",
       "1    L.R. Brane loves his life - his car, his apar...   \n",
       "2    Spain, March 1964: Quico is a very naughty ch...   \n",
       "3    One year in the life of Albin and his family ...   \n",
       "4    His father has died, he hasn't spoken with hi...   \n",
       "5    Before he was known internationally as a mart...   \n",
       "\n",
       "                                        Text_cleaning  \n",
       "Id                                                     \n",
       "1   brane loves life car apartment job especially ...  \n",
       "2   spain march quico naughty child three belongin...  \n",
       "3   one year life albin family shepherds north tra...  \n",
       "4   father died hasnt spoken brother years serious...  \n",
       "5   known internationally martial arts superstar b...  "
      ]
     },
     "execution_count": 12,
     "metadata": {},
     "output_type": "execute_result"
    }
   ],
   "source": [
    "test_df.head()"
   ]
  },
  {
   "cell_type": "markdown",
   "id": "87ebddde-74fa-4dd6-b216-1da113ef9fa0",
   "metadata": {},
   "source": [
    "# Text Vectorization Using TF-IDF"
   ]
  },
  {
   "cell_type": "code",
   "execution_count": 13,
   "id": "6b45b1ab-ad33-4005-9675-a73519ee0af5",
   "metadata": {},
   "outputs": [],
   "source": [
    "# Initialize the TF-IDF vectorizer\n",
    "tfidf_vectorizer = TfidfVectorizer()\n",
    "Le = LabelEncoder()\n",
    "\n",
    "# Fit and transform the training data\n",
    "X_train = tfidf_vectorizer.fit_transform(train_df['Text_cleaning'])\n",
    "train_df['Genre'] = Le.fit_transform(train_df['Genre'])\n",
    "\n",
    "# Transform the test data\n",
    "X_test = tfidf_vectorizer.transform(test_df['Text_cleaning'])\n"
   ]
  },
  {
   "cell_type": "code",
   "execution_count": 14,
   "id": "5019bf8f-0aa4-492a-ab8f-b51e9ea0482d",
   "metadata": {},
   "outputs": [],
   "source": [
    "# Split the data into training and validation sets\n",
    "x = X_train\n",
    "y = train_df['Genre']\n",
    "\n",
    "\n",
    "X_train, X_val, y_train, y_val = train_test_split(x, y, test_size=0.2, random_state=42)\n"
   ]
  },
  {
   "cell_type": "code",
   "execution_count": 15,
   "id": "c0216bdd-6340-4d52-ab54-4718e864e5aa",
   "metadata": {},
   "outputs": [
    {
     "name": "stdout",
     "output_type": "stream",
     "text": [
      "Accuracy: 0.5808355621138062\n",
      "Confusion Matrix:\n",
      " [[  58    0    0    0    0   18    1   37  122    0    0    0    0    7\n",
      "     0    0    0    0    0    0    3    6    2    0    8    0    1]\n",
      " [   0   23    9    0    0   36    0    7   26    0    0    0    0    2\n",
      "     0    0    0    0    0    0    0    8    0    0    0    0    1]\n",
      " [   5    1   15    0    0   11    0   26   54    1    0    0    0   12\n",
      "     0    0    0    0    0    0    4    7    0    0    2    0    1]\n",
      " [   1    0    0    2    0   27    0   21   30    4    0    0    0    2\n",
      "     1    0    0    0    0    0    6   10    0    0    0    0    0]\n",
      " [   0    0    0    0    0    2    0   41   17    0    0    0    0    0\n",
      "     0    0    0    0    0    0    0    1    0    0    0    0    0]\n",
      " [   3    1    0    0    0  851    0   95  427    1    0    0    0   10\n",
      "     2    0    0    0    3    1    1   44    1    0    3    0    0]\n",
      " [   3    0    0    0    0   17    1   13   63    0    0    0    0    3\n",
      "     0    0    0    0    0    0    0    2    0    0    4    0    1]\n",
      " [   3    1    0    0    0   46    0 2299  220    0    0    0    0    6\n",
      "     9    0    0    0    5    0    1   68    1    0    0    0    0]\n",
      " [   7    0    0    0    0  213    0  219 2172    0    0    0    0   11\n",
      "     0    0    0    0    1    2    0   67    1    0    4    0    0]\n",
      " [   1    0    2    0    0   43    0   31   47    7    0    0    0    1\n",
      "     4    0    0    0    2    0    0    8    1    3    0    0    0]\n",
      " [   0    1    4    1    0   10    0   10   32    0    0    0    0    6\n",
      "     0    0    0    0    0    0    2    8    0    0    0    0    0]\n",
      " [   0    0    0    0    0   10    0    8    1    0    0   14    0    0\n",
      "     0    0    0    0    6    0    0    0    1    0    0    0    0]\n",
      " [   0    0    0    0    0    0    0   29   16    0    0    0    0    0\n",
      "     0    0    0    0    0    0    0    0    0    0    0    0    0]\n",
      " [   3    0    0    0    0   35    0   23  105    1    0    0    0  236\n",
      "     0    0    0    0    1    0    3   19    0    0    5    0    0]\n",
      " [   0    0    0    0    0    7    0   62   11    0    0    0    0    0\n",
      "    54    0    0    0    3    0    0    7    0    0    0    0    0]\n",
      " [   0    0    0    0    0   10    0    7   23    0    0    0    0    0\n",
      "     4    0    0    0    0    0    0    5    0    0    0    0    1]\n",
      " [   0    0    0    0    0    4    0    6   32    0    0    0    0    5\n",
      "     0    0    0    0    0    0    0    1    0    0    8    0    0]\n",
      " [   0    0    0    0    0    2    0   31    1    0    0    0    0    0\n",
      "     0    0    0    0    0    0    0    0    0    0    0    0    0]\n",
      " [   0    0    0    0    0   46    0   98   15    0    0    0    0    0\n",
      "     1    0    0    0   25    0    0    6    0    1    0    0    0]\n",
      " [   0    1    0    0    0   32    0    1  112    0    0    0    0    0\n",
      "     0    0    0    0    0    0    0    5    0    0    0    0    0]\n",
      " [   3    0    0    0    0   12    0   33   45    0    0    0    0   11\n",
      "     0    0    0    0    1    0   22   13    0    0    3    0    0]\n",
      " [   4    0    0    0    0  113    0  286  303    0    0    0    0    7\n",
      "     1    0    0    0    3    1    1  324    0    0    2    0    0]\n",
      " [   2    0    0    0    0    7    0   55    3    0    0    0    0    0\n",
      "     0    0    0    0    2    0    0    6   16    2    0    0    0]\n",
      " [   0    0    0    0    0   11    0   50    2    0    0    0    0    0\n",
      "     2    0    0    0    3    0    0    5    0    8    0    0    0]\n",
      " [   8    0    0    0    0   26    0   21  173    0    0    1    0   29\n",
      "     0    0    0    0    0    0    0   13    0    0   38    0    0]\n",
      " [   1    0    0    0    0    0    0    6    9    0    0    0    0    0\n",
      "     0    0    0    0    1    0    0    3    0    0    0    0    0]\n",
      " [   1    0    0    0    0   13    0    5   47    0    0    0    0    0\n",
      "     0    0    0    0    0    0    0    0    0    0    1    0  133]]\n",
      "Classification Report:\n",
      "               precision    recall  f1-score   support\n",
      "\n",
      "           0       0.56      0.22      0.32       263\n",
      "           1       0.82      0.21      0.33       112\n",
      "           2       0.50      0.11      0.18       139\n",
      "           3       0.67      0.02      0.04       104\n",
      "           4       0.00      0.00      0.00        61\n",
      "           5       0.53      0.59      0.56      1443\n",
      "           6       0.50      0.01      0.02       107\n",
      "           7       0.65      0.86      0.74      2659\n",
      "           8       0.53      0.81      0.64      2697\n",
      "           9       0.50      0.05      0.09       150\n",
      "          10       0.00      0.00      0.00        74\n",
      "          11       0.93      0.35      0.51        40\n",
      "          12       0.00      0.00      0.00        45\n",
      "          13       0.68      0.55      0.61       431\n",
      "          14       0.69      0.38      0.49       144\n",
      "          15       0.00      0.00      0.00        50\n",
      "          16       0.00      0.00      0.00        56\n",
      "          17       0.00      0.00      0.00        34\n",
      "          18       0.45      0.13      0.20       192\n",
      "          19       0.00      0.00      0.00       151\n",
      "          20       0.51      0.15      0.24       143\n",
      "          21       0.51      0.31      0.39      1045\n",
      "          22       0.70      0.17      0.28        93\n",
      "          23       0.57      0.10      0.17        81\n",
      "          24       0.49      0.12      0.20       309\n",
      "          25       0.00      0.00      0.00        20\n",
      "          26       0.96      0.67      0.79       200\n",
      "\n",
      "    accuracy                           0.58     10843\n",
      "   macro avg       0.44      0.21      0.25     10843\n",
      "weighted avg       0.55      0.58      0.53     10843\n",
      "\n"
     ]
    }
   ],
   "source": [
    "#Model Building \n",
    "Lr = LogisticRegression()\n",
    "Lr.fit(X_train,y_train)\n",
    "ypred = Lr.predict(X_val)\n",
    "\n",
    "# Evaluating the model\n",
    "accuracy = accuracy_score(y_val, ypred)\n",
    "conf_matrix = confusion_matrix(y_val, ypred)\n",
    "class_report = classification_report(y_val, ypred)\n",
    "\n",
    "print(\"Accuracy:\", accuracy)\n",
    "print(\"Confusion Matrix:\\n\", conf_matrix)\n",
    "print(\"Classification Report:\\n\", class_report)\n"
   ]
  },
  {
   "cell_type": "code",
   "execution_count": 29,
   "id": "27f52eff-dbb5-4521-bcbd-d62bb5cacdc8",
   "metadata": {},
   "outputs": [
    {
     "data": {
      "text/plain": [
       "27"
      ]
     },
     "execution_count": 29,
     "metadata": {},
     "output_type": "execute_result"
    }
   ],
   "source": [
    "len(Le.classes_)"
   ]
  },
  {
   "cell_type": "code",
   "execution_count": 27,
   "id": "e0360ecf-18cd-4d26-8ec3-afd34e316e3a",
   "metadata": {},
   "outputs": [
    {
     "data": {
      "text/plain": [
       "10843"
      ]
     },
     "execution_count": 27,
     "metadata": {},
     "output_type": "execute_result"
    }
   ],
   "source": [
    "len(ypred)"
   ]
  },
  {
   "cell_type": "code",
   "execution_count": null,
   "id": "2cff8650-a9a4-41ad-928d-d116662e3b1e",
   "metadata": {},
   "outputs": [],
   "source": [
    "Genre"
   ]
  },
  {
   "cell_type": "code",
   "execution_count": 35,
   "id": "632bc42c-8ae6-4152-9f86-994fb51e6a19",
   "metadata": {},
   "outputs": [
    {
     "name": "stdout",
     "output_type": "stream",
     "text": [
      "[5 8 7 ... 8 7 7]\n"
     ]
    }
   ],
   "source": [
    "#getting predictions on test data \n",
    "Pred_test = Lr.predict(X_test)\n",
    "print(Pred_test)\n",
    "\n",
    "# Create a DataFrame with actual values, predicted values, and features\n",
    "results = pd.DataFrame()\n",
    "results['Title']= test_df['Title']\n",
    "results['Description'] = test_df['Description']\n",
    "results['Predicted Genre'] = Le.inverse_transform(Pred_test)"
   ]
  },
  {
   "cell_type": "code",
   "execution_count": 36,
   "id": "b30bfca5-0f55-4cb7-a4a0-8f13ef66ea6f",
   "metadata": {},
   "outputs": [
    {
     "data": {
      "text/html": [
       "<div>\n",
       "<style scoped>\n",
       "    .dataframe tbody tr th:only-of-type {\n",
       "        vertical-align: middle;\n",
       "    }\n",
       "\n",
       "    .dataframe tbody tr th {\n",
       "        vertical-align: top;\n",
       "    }\n",
       "\n",
       "    .dataframe thead th {\n",
       "        text-align: right;\n",
       "    }\n",
       "</style>\n",
       "<table border=\"1\" class=\"dataframe\">\n",
       "  <thead>\n",
       "    <tr style=\"text-align: right;\">\n",
       "      <th></th>\n",
       "      <th>Title</th>\n",
       "      <th>Description</th>\n",
       "      <th>Predicted Genre</th>\n",
       "    </tr>\n",
       "    <tr>\n",
       "      <th>Id</th>\n",
       "      <th></th>\n",
       "      <th></th>\n",
       "      <th></th>\n",
       "    </tr>\n",
       "  </thead>\n",
       "  <tbody>\n",
       "    <tr>\n",
       "      <th>1</th>\n",
       "      <td>Edgar's Lunch (1998)</td>\n",
       "      <td>L.R. Brane loves his life - his car, his apar...</td>\n",
       "      <td>comedy</td>\n",
       "    </tr>\n",
       "    <tr>\n",
       "      <th>2</th>\n",
       "      <td>La guerra de papá (1977)</td>\n",
       "      <td>Spain, March 1964: Quico is a very naughty ch...</td>\n",
       "      <td>drama</td>\n",
       "    </tr>\n",
       "    <tr>\n",
       "      <th>3</th>\n",
       "      <td>Off the Beaten Track (2010)</td>\n",
       "      <td>One year in the life of Albin and his family ...</td>\n",
       "      <td>documentary</td>\n",
       "    </tr>\n",
       "    <tr>\n",
       "      <th>4</th>\n",
       "      <td>Meu Amigo Hindu (2015)</td>\n",
       "      <td>His father has died, he hasn't spoken with hi...</td>\n",
       "      <td>drama</td>\n",
       "    </tr>\n",
       "    <tr>\n",
       "      <th>5</th>\n",
       "      <td>Er nu zhai (1955)</td>\n",
       "      <td>Before he was known internationally as a mart...</td>\n",
       "      <td>drama</td>\n",
       "    </tr>\n",
       "    <tr>\n",
       "      <th>...</th>\n",
       "      <td>...</td>\n",
       "      <td>...</td>\n",
       "      <td>...</td>\n",
       "    </tr>\n",
       "    <tr>\n",
       "      <th>54196</th>\n",
       "      <td>\"Tales of Light &amp; Dark\" (2013)</td>\n",
       "      <td>Covering multiple genres, Tales of Light &amp; Da...</td>\n",
       "      <td>drama</td>\n",
       "    </tr>\n",
       "    <tr>\n",
       "      <th>54197</th>\n",
       "      <td>Der letzte Mohikaner (1965)</td>\n",
       "      <td>As Alice and Cora Munro attempt to find their...</td>\n",
       "      <td>drama</td>\n",
       "    </tr>\n",
       "    <tr>\n",
       "      <th>54198</th>\n",
       "      <td>Oliver Twink (2007)</td>\n",
       "      <td>A movie 169 years in the making. Oliver Twist...</td>\n",
       "      <td>drama</td>\n",
       "    </tr>\n",
       "    <tr>\n",
       "      <th>54199</th>\n",
       "      <td>Slipstream (1973)</td>\n",
       "      <td>Popular, but mysterious rock D.J Mike Mallard...</td>\n",
       "      <td>documentary</td>\n",
       "    </tr>\n",
       "    <tr>\n",
       "      <th>54200</th>\n",
       "      <td>Curitiba Zero Grau (2010)</td>\n",
       "      <td>Curitiba is a city in movement, with rhythms ...</td>\n",
       "      <td>documentary</td>\n",
       "    </tr>\n",
       "  </tbody>\n",
       "</table>\n",
       "<p>54200 rows × 3 columns</p>\n",
       "</div>"
      ],
      "text/plain": [
       "                                  Title  \\\n",
       "Id                                        \n",
       "1                 Edgar's Lunch (1998)    \n",
       "2             La guerra de papá (1977)    \n",
       "3          Off the Beaten Track (2010)    \n",
       "4               Meu Amigo Hindu (2015)    \n",
       "5                    Er nu zhai (1955)    \n",
       "...                                 ...   \n",
       "54196   \"Tales of Light & Dark\" (2013)    \n",
       "54197      Der letzte Mohikaner (1965)    \n",
       "54198              Oliver Twink (2007)    \n",
       "54199                Slipstream (1973)    \n",
       "54200        Curitiba Zero Grau (2010)    \n",
       "\n",
       "                                             Description Predicted Genre  \n",
       "Id                                                                        \n",
       "1       L.R. Brane loves his life - his car, his apar...         comedy   \n",
       "2       Spain, March 1964: Quico is a very naughty ch...          drama   \n",
       "3       One year in the life of Albin and his family ...    documentary   \n",
       "4       His father has died, he hasn't spoken with hi...          drama   \n",
       "5       Before he was known internationally as a mart...          drama   \n",
       "...                                                  ...             ...  \n",
       "54196   Covering multiple genres, Tales of Light & Da...          drama   \n",
       "54197   As Alice and Cora Munro attempt to find their...          drama   \n",
       "54198   A movie 169 years in the making. Oliver Twist...          drama   \n",
       "54199   Popular, but mysterious rock D.J Mike Mallard...    documentary   \n",
       "54200   Curitiba is a city in movement, with rhythms ...    documentary   \n",
       "\n",
       "[54200 rows x 3 columns]"
      ]
     },
     "execution_count": 36,
     "metadata": {},
     "output_type": "execute_result"
    }
   ],
   "source": [
    "results"
   ]
  },
  {
   "cell_type": "code",
   "execution_count": 39,
   "id": "a52e1847-f1a0-4153-9346-05a61d4e11ae",
   "metadata": {},
   "outputs": [],
   "source": [
    "# Load the test solution data\n",
    "test_sol = r'C:\\Users\\priya\\Downloads\\Genre Classification\\Genre Classification Dataset\\test_data_solution.txt'\n",
    "test_sol = pd.read_csv(test_sol, sep=':::', names=['ID','Title', 'Genre', 'Description'], engine='python')\n",
    "test_sol['Genre'] = Le.fit_transform(test_sol['Genre'])"
   ]
  },
  {
   "cell_type": "code",
   "execution_count": 40,
   "id": "18c70c1e-c4bf-4f19-821f-f0965e10913a",
   "metadata": {},
   "outputs": [
    {
     "data": {
      "text/plain": [
       "0.5803321033210332"
      ]
     },
     "execution_count": 40,
     "metadata": {},
     "output_type": "execute_result"
    }
   ],
   "source": [
    "accuracy_score(test_sol['Genre'],Pred_test)"
   ]
  },
  {
   "cell_type": "code",
   "execution_count": null,
   "id": "25c8ecd7-ad26-4c57-b516-6eccde25b0c5",
   "metadata": {},
   "outputs": [],
   "source": []
  }
 ],
 "metadata": {
  "kernelspec": {
   "display_name": "Python 3 (ipykernel)",
   "language": "python",
   "name": "python3"
  },
  "language_info": {
   "codemirror_mode": {
    "name": "ipython",
    "version": 3
   },
   "file_extension": ".py",
   "mimetype": "text/x-python",
   "name": "python",
   "nbconvert_exporter": "python",
   "pygments_lexer": "ipython3",
   "version": "3.11.7"
  }
 },
 "nbformat": 4,
 "nbformat_minor": 5
}
